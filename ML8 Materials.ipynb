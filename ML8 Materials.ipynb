{
 "cells": [
  {
   "cell_type": "code",
   "execution_count": 5,
   "id": "48c4973a",
   "metadata": {},
   "outputs": [],
   "source": [
    "x0 = 1\n",
    "x1 = 3\n",
    "x2 = 2"
   ]
  },
  {
   "cell_type": "code",
   "execution_count": 6,
   "id": "32e0b648",
   "metadata": {},
   "outputs": [],
   "source": [
    "def relu(x):\n",
    "    if x > 0:\n",
    "        return x\n",
    "    return 0"
   ]
  },
  {
   "cell_type": "code",
   "execution_count": 7,
   "id": "5be5540c",
   "metadata": {},
   "outputs": [],
   "source": [
    "w10_1 = 0.2\n",
    "w11_1 = 0.8\n",
    "w12_1 = -0.3\n",
    "w20_1 = 0.6\n",
    "w21_1 = 0.4\n",
    "w22_1 = 0.7\n",
    "w30_1 = -0.2\n",
    "w31_1 = -0.5\n",
    "w32_1 = 0.3\n",
    "w40_1 = 0.1\n",
    "w41_1 = -0.8\n",
    "w42_1 = 0.9\n",
    "\n",
    "a10 = 1\n",
    "a11 = relu(x0 * w10_1 + x1 * w11_1 + x2 * w12_1 + 1)\n",
    "a12 = relu(x0 * w20_1 + x1 * w21_1 + x2 * w22_1 + 1)\n",
    "a13 = relu(x0 * w30_1 + x1 * w31_1 + x2 * w32_1 + 1)\n",
    "a14 = relu(x0 * w40_1 + x1 * w41_1 + x2 * w42_1 + 1)"
   ]
  },
  {
   "cell_type": "code",
   "execution_count": 8,
   "id": "bc5dce02",
   "metadata": {},
   "outputs": [
    {
     "name": "stdout",
     "output_type": "stream",
     "text": [
      "4.34 2.0700000000000003\n"
     ]
    }
   ],
   "source": [
    "w10_2 = 0.7\n",
    "w11_2 = 0.8\n",
    "w12_2 = 0.2\n",
    "w13_2 = -0.7\n",
    "w14_2 = 0.8\n",
    "w20_2 = 0.3\n",
    "w21_2 = 0.5\n",
    "w22_2 = 0.1\n",
    "w23_2 = 0.8\n",
    "w24_2 = -0.3\n",
    "\n",
    "a21 = a10 * w10_2 + a11 * w11_2 + a12 * w12_2 + a13 * w13_2 + a14 * w14_2\n",
    "a22 = a10 * w20_2 + a11 * w21_2 + a12 * w22_2 + a13 * w23_2 + a14 * w24_2\n",
    "\n",
    "print(a21, a22)"
   ]
  },
  {
   "cell_type": "code",
   "execution_count": 3,
   "id": "a72099fa",
   "metadata": {},
   "outputs": [
    {
     "name": "stdout",
     "output_type": "stream",
     "text": [
      "-0.8999999999999999\n",
      "0.28905049737499605\n"
     ]
    }
   ],
   "source": [
    "import numpy as np\n",
    "\n",
    "x0 = 2\n",
    "x1 = 3\n",
    "x2 = 5\n",
    "\n",
    "w0 = 0.2\n",
    "w1 = 0.4\n",
    "w2 = -0.7\n",
    "\n",
    "b = 1\n",
    "\n",
    "def sigmoid(x):\n",
    "    return 1/(1 + np.exp(-x))\n",
    "\n",
    "z = x0 * w0 + x1 * w1 + x2 * w2 + b\n",
    "print(z)\n",
    "a = sigmoid(z)\n",
    "print(a)"
   ]
  },
  {
   "cell_type": "code",
   "execution_count": null,
   "id": "7a435691",
   "metadata": {},
   "outputs": [],
   "source": []
  }
 ],
 "metadata": {
  "kernelspec": {
   "display_name": "Python 3 (ipykernel)",
   "language": "python",
   "name": "python3"
  },
  "language_info": {
   "codemirror_mode": {
    "name": "ipython",
    "version": 3
   },
   "file_extension": ".py",
   "mimetype": "text/x-python",
   "name": "python",
   "nbconvert_exporter": "python",
   "pygments_lexer": "ipython3",
   "version": "3.11.0"
  }
 },
 "nbformat": 4,
 "nbformat_minor": 5
}
