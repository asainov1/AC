{
 "cells": [
  {
   "cell_type": "code",
   "execution_count": 2,
   "metadata": {},
   "outputs": [
    {
     "name": "stdout",
     "output_type": "stream",
     "text": [
      "   ID продукта  Фактические продажи   Предсказанные продажи\n",
      "0            1                    84                    153\n",
      "1            2                   178                    106\n",
      "2            3                   178                    170\n",
      "3            4                   103                     51\n",
      "4            5                   183                    115\n"
     ]
    }
   ],
   "source": [
    "import pandas as pd\n",
    "import numpy as np\n",
    "import sklearn\n",
    "import seaborn as sns\n",
    "import matplotlib.pyplot as plt\n",
    "from sklearn.linear_model import LinearRegression\n",
    "from sklearn.metrics import mean_squared_error\n",
    "from sklearn.model_selection import train_test_split\n",
    "from sklearn.metrics import mean_squared_error, mean_absolute_error\n",
    "from sklearn.metrics import r2_score\n",
    "from sklearn.datasets import load_breast_cancer\n",
    "from sklearn.model_selection import train_test_split\n",
    "from sklearn.linear_model import LogisticRegression  # Импорт класса LogisticRegression\n",
    "from sklearn.metrics import accuracy_score\n",
    "\n",
    "\n",
    "data = pd.read_excel('/Users/alikhansainov/Desktop/Python/AC/ML/data1.xlsx')\n",
    "print(data.head())\n"
   ]
  },
  {
   "cell_type": "code",
   "execution_count": 3,
   "metadata": {},
   "outputs": [],
   "source": [
    "from sklearn.model_selection import train_test_split\n",
    "\n",
    "X = data['Фактические продажи ']\n",
    "y = data['Предсказанные продажи']\n",
    "\n",
    "\n",
    "# Разделение данных на обучающую и тестовую выборку\n",
    "X_train, X_test, y_train, y_test = train_test_split(X, y, test_size=0.3, random_state=42)"
   ]
  },
  {
   "cell_type": "code",
   "execution_count": 4,
   "metadata": {},
   "outputs": [
    {
     "name": "stdout",
     "output_type": "stream",
     "text": [
      "Среднеквадратичная ошибка (MSE): 2110.222222222222\n",
      "Средняя абсолютная ошибка (MAE): 38.888888888888886\n"
     ]
    }
   ],
   "source": [
    "mse = mean_squared_error(X, y)\n",
    "mae = mean_absolute_error(X, y)\n",
    "print(\"Среднеквадратичная ошибка (MSE):\", mse)\n",
    "print(\"Средняя абсолютная ошибка (MAE):\", mae)\n",
    "\n"
   ]
  },
  {
   "cell_type": "code",
   "execution_count": 5,
   "metadata": {},
   "outputs": [
    {
     "name": "stdout",
     "output_type": "stream",
     "text": [
      "-0.018544119750202537\n"
     ]
    }
   ],
   "source": [
    "# Вычисление коэффициента детерминации (R^2)\n",
    "r2 = r2_score(X, y)\n",
    "print (r2)"
   ]
  },
  {
   "cell_type": "code",
   "execution_count": 8,
   "metadata": {},
   "outputs": [
    {
     "name": "stdout",
     "output_type": "stream",
     "text": [
      "Среднеквадратичная ошибка данных (MSE): 0.06728376859363136\n",
      "Коэффициент детерминации (R^2): 0.7108399944964177\n"
     ]
    }
   ],
   "source": [
    "from sklearn import datasets\n",
    "from sklearn.datasets import data\n",
    "data = datasets.load_breast_cancer()\n",
    "df = pd.DataFrame(data.data, columns=data.feature_names)\n",
    "\n",
    "X = data.data\n",
    "y = data.target\n",
    "# Разделение данных на обучающую и тестовую выборку\n",
    "X_train, X_test, y_train, y_test = train_test_split(X, y, test_size=0.3, random_state=42)\n",
    "\n",
    "# Инициализация и обучение модели логистической регрессии\n",
    "model = LinearRegression()\n",
    "model.fit(X_train, y_train)\n",
    "# Предсказание на тестовых данных\n",
    "y_pred = model.predict(X_test)\n",
    "# Расчет - среднеквадратичная ошибка и коэфициент детерминации\n",
    "\n",
    "mse_test = mean_squared_error(y_test, y_pred)\n",
    "\n",
    "r2 = r2_score(y_test, y_pred)\n",
    "# Вывод результатов\n",
    "\n",
    "print(\"Среднеквадратичная ошибка данных (MSE):\", mse_test)\n",
    "print(\"Коэффициент детерминации (R^2):\", r2)\n"
   ]
  }
 ],
 "metadata": {
  "kernelspec": {
   "display_name": "Python 3",
   "language": "python",
   "name": "python3"
  },
  "language_info": {
   "codemirror_mode": {
    "name": "ipython",
    "version": 3
   },
   "file_extension": ".py",
   "mimetype": "text/x-python",
   "name": "python",
   "nbconvert_exporter": "python",
   "pygments_lexer": "ipython3",
   "version": "3.12.1"
  }
 },
 "nbformat": 4,
 "nbformat_minor": 2
}
