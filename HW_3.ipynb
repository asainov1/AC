{
 "cells": [
  {
   "cell_type": "markdown",
   "id": "c6b84534",
   "metadata": {},
   "source": [
    "# Пожалуйста, решите следующие задачи"
   ]
  },
  {
   "cell_type": "markdown",
   "id": "93943ac3",
   "metadata": {},
   "source": []
  },
  {
   "cell_type": "markdown",
   "id": "b895b440",
   "metadata": {},
   "source": [
    "1. Если a = True и b = False, то каким будет вывод следующего выражения: (a and b) or (not a) or (not b)"
   ]
  },
  {
   "cell_type": "code",
   "execution_count": 3,
   "id": "34cc0e67",
   "metadata": {},
   "outputs": [
    {
     "name": "stdout",
     "output_type": "stream",
     "text": [
      "True\n"
     ]
    }
   ],
   "source": [
    "a = True\n",
    "b = False\n",
    "# ваши расчеты\n",
    "print ((a and b) or (not a) or (not b))"
   ]
  },
  {
   "cell_type": "markdown",
   "id": "bad18445",
   "metadata": {},
   "source": [
    "2. Если a = True и b = False, то каким будет вывод следующего выражения: (a or b) and (not a) and (not b)"
   ]
  },
  {
   "cell_type": "code",
   "execution_count": 4,
   "id": "3858eb9d",
   "metadata": {},
   "outputs": [],
   "source": [
    "a = True\n",
    "b = False\n",
    "# ваши расчеты"
   ]
  },
  {
   "cell_type": "markdown",
   "id": "05312663",
   "metadata": {},
   "source": [
    "3. Для вас задана следующая переменная deg = 91. Решите следующую задачу: если deg > 90, то выведите «тупой угол»"
   ]
  },
  {
   "cell_type": "code",
   "execution_count": 5,
   "id": "5719aa35",
   "metadata": {},
   "outputs": [],
   "source": [
    "deg = 91\n",
    "# ваши расчеты"
   ]
  },
  {
   "cell_type": "markdown",
   "id": "7e717591",
   "metadata": {},
   "source": [
    "4. Для вас задана следующая переменная deg = 89. Решите следующую задачу: если deg > 90, то выведите «тупой угол», иначе, если deg < 90, выведите «острый угол»"
   ]
  },
  {
   "cell_type": "code",
   "execution_count": 6,
   "id": "5be49a91",
   "metadata": {},
   "outputs": [],
   "source": [
    "deg = 89\n",
    "# ваши расчеты"
   ]
  },
  {
   "cell_type": "markdown",
   "id": "27491f8b",
   "metadata": {},
   "source": [
    "5. Для вас задана следующая переменная deg = 90. Решите следующую задачу: если deg > 90, то выведите «тупой угол», иначе, если deg < 90, выведите «острый угол», иначе выведите «прямой угол»"
   ]
  },
  {
   "cell_type": "code",
   "execution_count": 7,
   "id": "b1213e0f",
   "metadata": {},
   "outputs": [],
   "source": [
    "deg = 90\n",
    "# ваши расчеты"
   ]
  },
  {
   "cell_type": "markdown",
   "id": "91fefe9e",
   "metadata": {},
   "source": [
    "6. Для вас дан следующий список a = [1, 2, 3, 4, 5, 6, 7]. Пожалуйста, распечатайте список в обратном порядке (пожалуйста, используйте функцию reverse())"
   ]
  },
  {
   "cell_type": "code",
   "execution_count": 9,
   "id": "5179aa0a",
   "metadata": {},
   "outputs": [],
   "source": [
    "a = [1, 2, 3, 4, 5, 6, 7]\n",
    "# ваши расчеты"
   ]
  },
  {
   "cell_type": "markdown",
   "id": "4ec18dbb",
   "metadata": {},
   "source": [
    "7. Для вас дан следующий список a = [1, 2, 3, 4, 5, 6, 7]. Найдите произведение 1) суммы первого и последнего элементов, 2) суммы второго и предпоследнего элементов, 3) суммы третьего и предпоследнего элементов."
   ]
  },
  {
   "cell_type": "code",
   "execution_count": 11,
   "id": "68d8f8e6",
   "metadata": {},
   "outputs": [],
   "source": [
    "a = [1, 2, 3, 4, 5, 6, 7]\n",
    "# ваши расчеты"
   ]
  },
  {
   "cell_type": "markdown",
   "id": "35faf925",
   "metadata": {},
   "source": [
    "8. Для вас дан следующий список a = [1, 2, 3, 4, 5, 5, 4, 5, 3]. Пожалуйста, найдите, сколько раз цифра 3 встречается в этом списке."
   ]
  },
  {
   "cell_type": "code",
   "execution_count": 13,
   "id": "3b200063",
   "metadata": {},
   "outputs": [],
   "source": [
    " a = [1, 2, 3, 4, 5, 5, 4, 5, 3]\n",
    "# ваши расчеты"
   ]
  },
  {
   "cell_type": "markdown",
   "id": "ec3f7bc4",
   "metadata": {},
   "source": [
    "9. Для вас дан следующий список a = [1, 2, 3, 4, 5, 5, 4, 5, 3]. Пожалуйста, очистите этот список, удалив все элементы и распечатайте список"
   ]
  },
  {
   "cell_type": "code",
   "execution_count": 15,
   "id": "7e0c6ba4",
   "metadata": {},
   "outputs": [],
   "source": [
    "a = [1, 2, 3, 4, 5, 5, 4, 5, 3]\n",
    "# ваши расчеты"
   ]
  },
  {
   "cell_type": "markdown",
   "id": "3033bd84",
   "metadata": {},
   "source": [
    "10. Для вас дан следующий список a = [1, 2, 3, 4, 5, 5, 4, 5, 3]. Пожалуйста, добавьте в этот список такие числа, как 100, 101, 102 и распечатайте список"
   ]
  },
  {
   "cell_type": "code",
   "execution_count": 7,
   "id": "9a4d4b82",
   "metadata": {},
   "outputs": [
    {
     "name": "stdout",
     "output_type": "stream",
     "text": [
      "Test Statistic (Z): 163.45821325648424\n",
      "Two-tailed p-value: 0.0\n"
     ]
    }
   ],
   "source": [
    "from scipy.stats import norm\n",
    "\n",
    "# Given data\n",
    "ARPU_control = 722.46\n",
    "ARPU_test = 665.74\n",
    "Standard_Error = 0.347  # Assuming standard error calculated previously\n",
    "\n",
    "# Calculate the test statistic (Z)\n",
    "Z = (ARPU_control - ARPU_test) / Standard_Error\n",
    "\n",
    "# Calculate the p-value using the cumulative distribution function (CDF) of the standard normal distribution\n",
    "# For a two-tailed test, double the probability obtained from the CDF\n",
    "p_value = 2 * (1 - norm.cdf(abs(Z)))\n",
    "\n",
    "print(\"Test Statistic (Z):\", Z)\n",
    "print(\"Two-tailed p-value:\", p_value)"
   ]
  },
  {
   "cell_type": "code",
   "execution_count": null,
   "id": "a0ce03d8",
   "metadata": {},
   "outputs": [],
   "source": []
  },
  {
   "cell_type": "code",
   "execution_count": 63,
   "id": "7451fb12",
   "metadata": {},
   "outputs": [
    {
     "name": "stdout",
     "output_type": "stream",
     "text": [
      "[1, 2, 3, 4]\n"
     ]
    }
   ],
   "source": [
    "list = [1,2,3,4,5]\n",
    "deleted_item = list.pop()\n",
    "print (list)"
   ]
  },
  {
   "cell_type": "code",
   "execution_count": 64,
   "id": "d193b1f8",
   "metadata": {},
   "outputs": [
    {
     "data": {
      "text/plain": [
       "(1, 3, 6)"
      ]
     },
     "execution_count": 64,
     "metadata": {},
     "output_type": "execute_result"
    }
   ],
   "source": []
  },
  {
   "cell_type": "code",
   "execution_count": 31,
   "id": "464f12fa",
   "metadata": {},
   "outputs": [
    {
     "data": {
      "text/plain": [
       "252"
      ]
     },
     "execution_count": 31,
     "metadata": {},
     "output_type": "execute_result"
    }
   ],
   "source": [
    "import math\n",
    "math.comb(10, 5)"
   ]
  },
  {
   "cell_type": "code",
   "execution_count": 40,
   "id": "634664a6",
   "metadata": {},
   "outputs": [
    {
     "name": "stdout",
     "output_type": "stream",
     "text": [
      "[[3]\n",
      " [2]]\n",
      "[[ 5 -1  1  0]\n",
      " [ 4  3 12 -6]]\n"
     ]
    }
   ],
   "source": [
    "import numpy as np\n",
    "A = np.array ([[5,-1,1,0],[4,3,12,-6]])\n",
    "print (np.array([[3],[2]]))\n",
    "print (A)"
   ]
  },
  {
   "cell_type": "code",
   "execution_count": 39,
   "id": "a4d5e9ae",
   "metadata": {},
   "outputs": [
    {
     "name": "stdout",
     "output_type": "stream",
     "text": [
      "[[ 5 -1  8  0]\n",
      " [ 4  3 12 -6]]\n"
     ]
    }
   ],
   "source": [
    "A[0,2] = 8\n",
    "print (A)"
   ]
  },
  {
   "cell_type": "code",
   "execution_count": 54,
   "id": "20af3f72",
   "metadata": {},
   "outputs": [
    {
     "name": "stdout",
     "output_type": "stream",
     "text": [
      "[-2.   -1.25 -0.5   0.25  1.    1.75  2.5   3.25  4.  ]\n"
     ]
    }
   ],
   "source": [
    "x = np.linspace (-2,4,9)\n",
    "print (x)"
   ]
  },
  {
   "cell_type": "code",
   "execution_count": 58,
   "id": "8bde1861",
   "metadata": {},
   "outputs": [
    {
     "name": "stdout",
     "output_type": "stream",
     "text": [
      "[(1, 2), (5, 7), (3, 9)]\n"
     ]
    }
   ],
   "source": [
    "def zip_(list1, list2):\n",
    "    combined_list = []\n",
    "    min_length = min(len(list1), len(list2))  # Determine the shorter length between list1 and list2\n",
    "    \n",
    "    for i in range(min_length):\n",
    "        combined_list.append((list1[i], list2[i]))  # Append tuple of corresponding elements from list1 and list2\n",
    "    \n",
    "    return combined_list\n",
    "\n",
    "# Define lists\n",
    "list1 = [1, 5, 3, 8, 35]\n",
    "list2 = [2, 7, 9]\n",
    "\n",
    "# Call the function\n",
    "result = zip_(list1, list2)\n",
    "print(result)"
   ]
  },
  {
   "cell_type": "code",
   "execution_count": 66,
   "id": "c248728b",
   "metadata": {},
   "outputs": [
    {
     "data": {
      "text/plain": [
       "6"
      ]
     },
     "execution_count": 66,
     "metadata": {},
     "output_type": "execute_result"
    }
   ],
   "source": [
    "my_tuple = (1,3,6)\n",
    "my_tuple\n",
    "\n",
    "len(my_tuple+ (1,3, 'aaa'))"
   ]
  },
  {
   "cell_type": "code",
   "execution_count": 67,
   "id": "40be5da8",
   "metadata": {},
   "outputs": [],
   "source": [
    "import pandas as pd\n",
    "import numpy as np\n",
    "import matplotlib.pyplot as plt\n",
    "import random\n",
    "import statistics\n",
    "\n",
    "\n"
   ]
  },
  {
   "cell_type": "code",
   "execution_count": 68,
   "id": "183a73c1",
   "metadata": {},
   "outputs": [
    {
     "data": {
      "text/plain": [
       "5.363636363636363"
      ]
     },
     "execution_count": 68,
     "metadata": {},
     "output_type": "execute_result"
    }
   ],
   "source": [
    "sample_data = (1,2,3,3,3,5,7,8,8,9,10)\n",
    "np.mean(sample_data)"
   ]
  }
 ],
 "metadata": {
  "kernelspec": {
   "display_name": "Python 3 (ipykernel)",
   "language": "python",
   "name": "python3"
  },
  "language_info": {
   "codemirror_mode": {
    "name": "ipython",
    "version": 3
   },
   "file_extension": ".py",
   "mimetype": "text/x-python",
   "name": "python",
   "nbconvert_exporter": "python",
   "pygments_lexer": "ipython3",
   "version": "3.12.1"
  }
 },
 "nbformat": 4,
 "nbformat_minor": 5
}
