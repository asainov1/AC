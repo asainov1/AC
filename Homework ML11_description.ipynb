{
 "cells": [
  {
   "cell_type": "markdown",
   "id": "8dacfdb3",
   "metadata": {},
   "source": [
    "1. Загрузите набор данных по следующей ссылке: https://www.kaggle.com/yersever/500-person-gender-height-weight-bodymassindex."
   ]
  },
  {
   "cell_type": "markdown",
   "id": "9304e1a3",
   "metadata": {},
   "source": [
    "2. Прочитайте содержимое набора данных с помощью pandas"
   ]
  },
  {
   "cell_type": "markdown",
   "id": "dd874fc2",
   "metadata": {},
   "source": [
    "3. Пожалуйста, проверьте, содержит ли набор данных Null значения, если да, удалите их."
   ]
  },
  {
   "cell_type": "markdown",
   "id": "249afcdd",
   "metadata": {},
   "source": [
    "4. Используйте 30% данных для тестирования, а остальные для обучения"
   ]
  },
  {
   "cell_type": "markdown",
   "id": "b3548a20",
   "metadata": {},
   "source": [
    "5. Создайте объекты дерева решений и случайного леса"
   ]
  },
  {
   "cell_type": "markdown",
   "id": "9704df78",
   "metadata": {},
   "source": [
    "6. Обучите эти модели с заданным набором данных"
   ]
  },
  {
   "cell_type": "markdown",
   "id": "6d0bf38d",
   "metadata": {},
   "source": [
    "7. Протестируйте эти модели, используя заданный набор тестов."
   ]
  },
  {
   "cell_type": "markdown",
   "id": "fd7b0fb6",
   "metadata": {},
   "source": [
    "8. Рассчитайте точность для обеих моделей"
   ]
  }
 ],
 "metadata": {
  "kernelspec": {
   "display_name": "Python 3",
   "language": "python",
   "name": "python3"
  },
  "language_info": {
   "codemirror_mode": {
    "name": "ipython",
    "version": 3
   },
   "file_extension": ".py",
   "mimetype": "text/x-python",
   "name": "python",
   "nbconvert_exporter": "python",
   "pygments_lexer": "ipython3",
   "version": "3.8.8"
  }
 },
 "nbformat": 4,
 "nbformat_minor": 5
}
