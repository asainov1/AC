{
 "cells": [
  {
   "cell_type": "markdown",
   "id": "94dc27aa-67ea-4b8e-8ada-60db0184479d",
   "metadata": {},
   "source": [
    "качаем библиотеки"
   ]
  },
  {
   "cell_type": "code",
   "execution_count": 141,
   "id": "c3997779-dae8-4982-858d-cfbca0169d11",
   "metadata": {},
   "outputs": [],
   "source": [
    "import pandas as pd\n",
    "import numpy as np\n",
    "\n",
    "import statistics\n",
    "import statsmodels.api as sm\n",
    "\n",
    "import matplotlib.pyplot as plt\n",
    "import seaborn as sns\n",
    "\n",
    "from scipy.stats import norm\n",
    "from scipy.stats import t"
   ]
  },
  {
   "cell_type": "markdown",
   "id": "b882713b-49a5-49cf-8163-72404b66c0de",
   "metadata": {},
   "source": [
    "#### Проект\n",
    "Наша кампания ранне имела всего один продукт, он был запущен давно. У нас есть записи сколько выручки нам приносил этот продукт за каждый день его работы. Пару месяцев назад кампания запустила второй продукт, и так же ежедневно фиксировала выручку которую он нам приносил. Данные по выручкам сохранены ниже в переменных product1 и product2.<br>\n",
    "Наша задача сделать полный анализ на основе всего лишь этих двух списках."
   ]
  },
  {
   "cell_type": "code",
   "execution_count": 82,
   "id": "418bf5e4-eb33-4693-b0bc-9d9d0bc683c2",
   "metadata": {},
   "outputs": [],
   "source": [
    "### для загрузки данных\n",
    "with open(r'materials/project.txt', 'r') as fp:\n",
    "    for i, line in enumerate(fp):\n",
    "        if i == 0:\n",
    "            product1 = [int(i) for i in line.split(' ')]\n",
    "        if i == 1:\n",
    "            product2 = [int(i) for i in line.split(' ')]\n",
    "\n",
    "fp.close()"
   ]
  },
  {
   "cell_type": "markdown",
   "id": "fa048600-0d1e-4242-b8e9-1c0cee876c75",
   "metadata": {},
   "source": [
    "**Задача 1**<br>\n",
    "подсчитайте среднее арифметическое (mean), медиану и моду для обоих списков: product1 и product2"
   ]
  },
  {
   "cell_type": "code",
   "execution_count": null,
   "id": "c1684a38-7506-4be5-8a22-5c739c3937e0",
   "metadata": {},
   "outputs": [],
   "source": []
  },
  {
   "cell_type": "markdown",
   "id": "acaf9c74-c1f9-44f1-8971-e2ff3a12711b",
   "metadata": {},
   "source": [
    "Какая из трех метрик будет наименее показательной, и почему?<br>\n",
    "На основе оставшихся двух метрик какой продукт в среднем приносит больше выручки?"
   ]
  },
  {
   "cell_type": "code",
   "execution_count": null,
   "id": "6914a998-bd1a-4d8c-9837-bdae50193d80",
   "metadata": {},
   "outputs": [],
   "source": []
  },
  {
   "cell_type": "markdown",
   "id": "e9a9c8a0-0908-4ab4-8683-d6dc4ffe8deb",
   "metadata": {},
   "source": [
    "**Задача 2**<br>\n",
    "подсчитайте стандартное отклонение и скажите оценка какого продукта является более точной?"
   ]
  },
  {
   "cell_type": "code",
   "execution_count": null,
   "id": "4a85fb32-4b85-44d6-a523-309713d0044b",
   "metadata": {},
   "outputs": [],
   "source": []
  },
  {
   "cell_type": "markdown",
   "id": "30b9c78e-32c8-4208-ae0f-0af3c6da4ff5",
   "metadata": {},
   "source": [
    "**Задача 3**<br>\n",
    "Нарисуйте распределение вероятности выручки для продукта1 и для продукта2.<br>\n",
    "Можете использовать гистограмму или kdeplot"
   ]
  },
  {
   "cell_type": "code",
   "execution_count": null,
   "id": "6de53cf0-0820-41fd-a895-d2afa9edaaba",
   "metadata": {},
   "outputs": [],
   "source": []
  },
  {
   "cell_type": "markdown",
   "id": "d82f8c77-de75-48af-9b0a-5631393561ba",
   "metadata": {},
   "source": [
    "**Задача 4**<br>\n",
    "Посчитайте размах выручки для продукта1 и для продукта2<br>\n",
    "Сходится ли разница в размахах и разница в стандартных отклонениях, какая может быть причина?"
   ]
  },
  {
   "cell_type": "code",
   "execution_count": null,
   "id": "ecc66a72-e8b0-4a99-9e1e-67271e4201c6",
   "metadata": {},
   "outputs": [],
   "source": []
  },
  {
   "cell_type": "markdown",
   "id": "0f8ef771-bdbd-409a-9840-af4d04d35bd1",
   "metadata": {},
   "source": [
    "**Задача 5**<br>\n",
    "Посчитайте межквартильный разммах IQR для продукта1 и продукта2<br>\n",
    "Теперь убрав выбросы что мы можем сказать о разбросе данных?"
   ]
  },
  {
   "cell_type": "code",
   "execution_count": null,
   "id": "0f8c548e-9f57-4c06-9b44-75a8bda299ea",
   "metadata": {},
   "outputs": [],
   "source": []
  },
  {
   "cell_type": "markdown",
   "id": "6db76839-217a-4a3c-acd7-a865d30fdffb",
   "metadata": {},
   "source": [
    "**Задача 6**<br>\n",
    "Нарисуйте box-plot для продукта1 и с рисунка скажите при каких значениях начинаются выбросы"
   ]
  },
  {
   "cell_type": "code",
   "execution_count": null,
   "id": "d06c9ff2-9d1e-4967-a117-9600d93b6629",
   "metadata": {},
   "outputs": [],
   "source": []
  },
  {
   "cell_type": "markdown",
   "id": "16928b46-db3e-4469-a64b-c80de91db2ff",
   "metadata": {},
   "source": [
    "**Задача 7**<br>\n",
    "Нарисуйте QQ plot выручки для обоих продуктов<br>\n",
    "Какое из распределений является нормальным?"
   ]
  },
  {
   "cell_type": "code",
   "execution_count": null,
   "id": "baabbdf5-2f9f-437d-9c0f-ab9e6ef551da",
   "metadata": {},
   "outputs": [],
   "source": []
  },
  {
   "cell_type": "markdown",
   "id": "ff6b8ff4-9232-4726-a865-223be99a9f74",
   "metadata": {},
   "source": [
    "Каких значений много или наоборот не достает в продукте2 чтобы значения стали нормально распределенными?"
   ]
  },
  {
   "cell_type": "code",
   "execution_count": null,
   "id": "270d3be9-6ba8-4a72-87d4-23737238e5b0",
   "metadata": {},
   "outputs": [],
   "source": []
  },
  {
   "cell_type": "markdown",
   "id": "9dafa3ad-23c5-45f1-add9-ed9fccd667d2",
   "metadata": {},
   "source": [
    "**Задача 8**<br>\n",
    "И так мы знаем что выручка продукта1 является нормально распредленной, переведите все значения в стандартное нормальное распределение используя текущие mean и std<br>\n",
    "создайте новую переменнуя и запишите новые значения туда"
   ]
  },
  {
   "cell_type": "code",
   "execution_count": 139,
   "id": "535671e2-01e5-4b4d-b1fc-c16695ad43d5",
   "metadata": {},
   "outputs": [],
   "source": []
  },
  {
   "cell_type": "markdown",
   "id": "aea5d73e-fe86-411b-8669-11fd200df3de",
   "metadata": {},
   "source": [
    "Нарисуйте kdeplot нового стандартного распределения"
   ]
  },
  {
   "cell_type": "code",
   "execution_count": null,
   "id": "7370c67e-be0e-4ae5-8b0f-c42246cdb065",
   "metadata": {},
   "outputs": [],
   "source": []
  },
  {
   "cell_type": "markdown",
   "id": "837f8f0f-532f-4341-b2d9-8acf4c09ceb4",
   "metadata": {},
   "source": [
    "**Задача 9**<br>\n",
    "Подсчитайте точку слева от которой будет 1% всей вероятности распределения"
   ]
  },
  {
   "cell_type": "code",
   "execution_count": null,
   "id": "93bcb34d-69b3-4429-9817-fe6699f6034d",
   "metadata": {},
   "outputs": [],
   "source": []
  },
  {
   "cell_type": "markdown",
   "id": "7f8788d6-2645-4432-9b6e-61ba231f1141",
   "metadata": {},
   "source": [
    "Первое значение в списке product1 равно 94. Когда мы преобразуем список в стандартное нормальное распределение, 94 преобразуется в -3.65<br>\n",
    "Что нам говорит это число, особенно при сравнении с точкой которую мы только что подсчитали?"
   ]
  },
  {
   "cell_type": "code",
   "execution_count": null,
   "id": "5272694e-896a-4fd4-91e1-8418928b3ad0",
   "metadata": {},
   "outputs": [],
   "source": []
  },
  {
   "cell_type": "markdown",
   "id": "ee247fab-075c-4545-bb14-3c3d84e68f27",
   "metadata": {},
   "source": [
    "**Задача 10**<br>\n",
    "Продукт2 новый, но уже достаточно стабилизирвался за эти месяцы. Мы хотим знать сколько он будет в среднем нам приносить ежедневно выручки и в будущем.<br>\n",
    "Дайте точечную оценку средней выручке продукта2"
   ]
  },
  {
   "cell_type": "code",
   "execution_count": null,
   "id": "6731c412-dd77-4dfe-9a55-69e676fb1600",
   "metadata": {},
   "outputs": [],
   "source": []
  },
  {
   "cell_type": "markdown",
   "id": "1856cbae-3ce5-4c2a-b676-fbf275f5008e",
   "metadata": {},
   "source": [
    "Подсчитайте 95% доверительный интервал"
   ]
  },
  {
   "cell_type": "code",
   "execution_count": null,
   "id": "de8a5647-8bf6-40c8-8354-85bf0a7360e3",
   "metadata": {},
   "outputs": [],
   "source": []
  },
  {
   "cell_type": "markdown",
   "id": "31a2cf04-d3fe-46c2-b388-e829293cb022",
   "metadata": {},
   "source": [
    "**Задача11**<br>\n",
    "Проведите АБ тест с уровнем значимости 5% что средняя выручка у продукта1 выше чем 197.5"
   ]
  },
  {
   "cell_type": "code",
   "execution_count": null,
   "id": "174cbc88-edf1-488f-bac6-f058010322df",
   "metadata": {},
   "outputs": [],
   "source": []
  },
  {
   "cell_type": "markdown",
   "id": "56ab8d09-19d4-477a-af19-c135f776ce36",
   "metadata": {},
   "source": [
    "Какой это был типа АБ теста?"
   ]
  },
  {
   "cell_type": "code",
   "execution_count": null,
   "id": "6ef02081-3500-4c65-b675-c6151ef3a455",
   "metadata": {},
   "outputs": [],
   "source": []
  },
  {
   "cell_type": "markdown",
   "id": "54e230d2-073a-47d4-8cdf-ad03c1973569",
   "metadata": {},
   "source": [
    "**Задача12**<br>\n",
    "Проведите АБ тест с уровнем значимости 5% что средняя выручка у продукта1 и у продукта2 равны"
   ]
  },
  {
   "cell_type": "code",
   "execution_count": null,
   "id": "a576b543-0ba4-4c94-8b76-6776cfd95bbc",
   "metadata": {},
   "outputs": [],
   "source": []
  }
 ],
 "metadata": {
  "kernelspec": {
   "display_name": "Python 3 (ipykernel)",
   "language": "python",
   "name": "python3"
  },
  "language_info": {
   "codemirror_mode": {
    "name": "ipython",
    "version": 3
   },
   "file_extension": ".py",
   "mimetype": "text/x-python",
   "name": "python",
   "nbconvert_exporter": "python",
   "pygments_lexer": "ipython3",
   "version": "3.11.3"
  }
 },
 "nbformat": 4,
 "nbformat_minor": 5
}
