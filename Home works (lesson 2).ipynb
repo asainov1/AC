{
 "cells": [
  {
   "cell_type": "markdown",
   "id": "36abb213",
   "metadata": {},
   "source": [
    "## Пожалуйста, решите следующие задачи"
   ]
  },
  {
   "cell_type": "markdown",
   "id": "7d08fbcd",
   "metadata": {},
   "source": [
    "1) Вычислите значение следующего выражения: если a = 389, b = 289, то чему равен a^3 + 3a^2b + 3ab^2 + b^3, здесь ^ означает степень"
   ]
  },
  {
   "cell_type": "code",
   "execution_count": 7,
   "id": "5980d0cb",
   "metadata": {},
   "outputs": [
    {
     "name": "stdout",
     "output_type": "stream",
     "text": [
      "299418309\n"
     ]
    }
   ],
   "source": [
    "a = 389\n",
    "b = 280\n",
    "# ваши расчеты \n",
    "print (a**3 + 3*a**2*b + 3*a*b**2 + b**3)"
   ]
  },
  {
   "cell_type": "markdown",
   "id": "2a4dfad1",
   "metadata": {},
   "source": [
    "2. Вычислите значение следующего выражения: если a = 231, b = 293 , то чему равен  (a + b) / (a^2 - ab + b^2), здесь ^ означает степень"
   ]
  },
  {
   "cell_type": "code",
   "execution_count": 9,
   "id": "7f0c9d4a",
   "metadata": {},
   "outputs": [
    {
     "name": "stdout",
     "output_type": "stream",
     "text": [
      "0.007325904903043606\n"
     ]
    }
   ],
   "source": [
    "a = 231\n",
    "b = 293\n",
    "# ваши расчеты \n",
    "print ((a+b)/ (a**2 - a * b + b ** 2 ))"
   ]
  },
  {
   "cell_type": "markdown",
   "id": "7729964b",
   "metadata": {},
   "source": [
    "3. Вычислите значение следующего выражения: если x = 3.4, то чему равен 2.4 * ((x - 2.4) / (x + 3.9))"
   ]
  },
  {
   "cell_type": "code",
   "execution_count": 10,
   "id": "023b82fb",
   "metadata": {},
   "outputs": [
    {
     "name": "stdout",
     "output_type": "stream",
     "text": [
      "0.3287671232876712\n"
     ]
    }
   ],
   "source": [
    "x = 3.4\n",
    "# ваши расчеты \n",
    "print (2.4 * ((x - 2.4)/(x+3.9)))"
   ]
  },
  {
   "cell_type": "markdown",
   "id": "681d9270",
   "metadata": {},
   "source": [
    "4. Вычислите значение следующего выражения: если y = -0.2, то чему равен y + y^2 + y^3 + y^4 + y^5 + ... + y^10, здесь ^ означает степень"
   ]
  },
  {
   "cell_type": "code",
   "execution_count": 11,
   "id": "569a39fb",
   "metadata": {},
   "outputs": [
    {
     "name": "stdout",
     "output_type": "stream",
     "text": [
      "-0.1666666496\n"
     ]
    }
   ],
   "source": [
    "y = -0.2\n",
    "# ваши расчеты \n",
    "print (y+y**2+y**3+y**4+y**5+y**6+y**7+y**8+y**9+y**10)"
   ]
  },
  {
   "cell_type": "markdown",
   "id": "033fcae9",
   "metadata": {},
   "source": [
    "5. У нас есть следующий текст \"salem alem\", нужно вывести на экран перевернутый текст, то есть \"mela melas\". (Не разрешается выводить просто тескт \"mela melas\", нужно использовать индексы)"
   ]
  },
  {
   "cell_type": "code",
   "execution_count": 30,
   "id": "bf1f05a4",
   "metadata": {},
   "outputs": [
    {
     "name": "stdout",
     "output_type": "stream",
     "text": [
      "mela melas\n"
     ]
    }
   ],
   "source": [
    "s = \"salem alem\"\n",
    "reversed_s = \"\"\n",
    "# ваш код\n",
    "for item in range(len(s)- 1, - 1, -1):\n",
    "    reversed_s += s[item]\n",
    "print (reversed_s)"
   ]
  },
  {
   "cell_type": "markdown",
   "id": "9c176c47",
   "metadata": {},
   "source": [
    "6. Вам даны следующие текстовые данные «salem» и «alem», нужно вывести на экран следующий текст «salem alem». (Не разрешается выводить просто тескт \"salem alem\", пожалуйста, используйте оператор +)"
   ]
  },
  {
   "cell_type": "code",
   "execution_count": 36,
   "id": "87d72948",
   "metadata": {},
   "outputs": [
    {
     "name": "stdout",
     "output_type": "stream",
     "text": [
      "salem alem\n"
     ]
    }
   ],
   "source": [
    "s = \"salem\"\n",
    "p = \"alem\"\n",
    "# ваш код\n",
    "print (s + \" \"+  p)"
   ]
  },
  {
   "cell_type": "markdown",
   "id": "40d3f85d",
   "metadata": {},
   "source": [
    "7. Для следующего текста \"abcdefghijklmn\" выведите нечетные пронумерованные символы."
   ]
  },
  {
   "cell_type": "code",
   "execution_count": 44,
   "id": "4dc2568a",
   "metadata": {},
   "outputs": [
    {
     "name": "stdout",
     "output_type": "stream",
     "text": [
      "acegikm\n"
     ]
    }
   ],
   "source": [
    "s = \"abcdefghijklmn\"\n",
    "s_uneven = \"\"\n",
    "# ваш код\n",
    "\n",
    "for i in range(len(s)):\n",
    "    if i % 2 == 0:\n",
    "        s_uneven += s[i]\n",
    "print (s_uneven)\n"
   ]
  },
  {
   "cell_type": "markdown",
   "id": "dbcb0e95",
   "metadata": {},
   "source": [
    "8. Для следующего текста «this is wonderful course» выведите нечетные пронумерованные слова (это «this» и «wonderful») и разделите их пробелом. (Не разрешается выводить просто тескт «this wonderful»)"
   ]
  },
  {
   "cell_type": "code",
   "execution_count": 66,
   "id": "e842bb81",
   "metadata": {},
   "outputs": [
    {
     "name": "stdout",
     "output_type": "stream",
     "text": [
      "this wonderful\n"
     ]
    }
   ],
   "source": [
    "s = \"this is wonderful course\"\n",
    "# ваш код\n",
    "s_splitted = s.split()\n",
    "s_uneven = \" \"\n",
    "for index, word in enumerate(s_splitted):\n",
    "    if index % 2 == 0:\n",
    "        s_uneven += word + \" \"\n",
    "\n",
    "print (s_uneven.strip())"
   ]
  },
  {
   "cell_type": "markdown",
   "id": "82cac43d",
   "metadata": {},
   "source": [
    "9. В приведенном ниже тексте \"good morning\" замените слово \"morning\" на \"evening\". (Не разрешается выводить просто тескт \"good evening\")"
   ]
  },
  {
   "cell_type": "code",
   "execution_count": 67,
   "id": "47f2ce1f",
   "metadata": {},
   "outputs": [],
   "source": [
    "s = \"good morning\"\n",
    "# ваш код"
   ]
  },
  {
   "cell_type": "code",
   "execution_count": 82,
   "id": "fc4de2a8",
   "metadata": {},
   "outputs": [
    {
     "name": "stdout",
     "output_type": "stream",
     "text": [
      "good evening\n"
     ]
    }
   ],
   "source": [
    "\n",
    "\n",
    "new_s = s.replace (\"morning\", \"evening\")\n",
    "print (new_s)"
   ]
  }
 ],
 "metadata": {
  "kernelspec": {
   "display_name": "Python 3 (ipykernel)",
   "language": "python",
   "name": "python3"
  },
  "language_info": {
   "codemirror_mode": {
    "name": "ipython",
    "version": 3
   },
   "file_extension": ".py",
   "mimetype": "text/x-python",
   "name": "python",
   "nbconvert_exporter": "python",
   "pygments_lexer": "ipython3",
   "version": "3.12.1"
  }
 },
 "nbformat": 4,
 "nbformat_minor": 5
}
