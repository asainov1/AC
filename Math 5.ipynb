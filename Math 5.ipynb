{
 "cells": [
  {
   "cell_type": "markdown",
   "id": "aff4d295",
   "metadata": {},
   "source": [
    "- Используя модуль $\\texttt{random}$, создайте массив NumPy с 2 строками и 3 столбцами, в котором есть записи, представляющие собой случайные положительные целые числа меньше 10. Распечатайте свой массив. Измените запись в первой строке второго столбца на 8 и удвойте значение во второй строке третьего столбца. Распечатайте полученный массив, чтобы убедиться, что ваш код внес правильные изменения."
   ]
  },
  {
   "cell_type": "code",
   "execution_count": 46,
   "id": "07854f6c",
   "metadata": {},
   "outputs": [
    {
     "name": "stdout",
     "output_type": "stream",
     "text": [
      "[[5 0 6]\n",
      " [6 9 8]]\n",
      "[[ 5  9  6]\n",
      " [ 6  9 16]]\n"
     ]
    }
   ],
   "source": [
    "import numpy as np \n",
    "import random as rand\n",
    "a = np.random.randint(10, size = (2,3))\n",
    "print (a)\n",
    "a[0,1] = 9\n",
    "a[1,2] *= 2 \n",
    "print (a)"
   ]
  },
  {
   "cell_type": "markdown",
   "id": "fb6fb31d",
   "metadata": {},
   "source": [
    "- Используя модуль $\\texttt{random}$, создайте массив NumPy с 3 строками и 3 столбцами, в котором есть записи, представляющие собой случайные положительные целые числа меньше 10. Распечатайте свой массив. Теперь умножьте каждое значение в матрице на 5, а затем добавьте 1 ко всем элементам во второй строке. После этого разделите каждую диагональную запись на 2 и распечатайте полученный массив, чтобы убедиться, что ваш код внес правильные изменения."
   ]
  },
  {
   "cell_type": "code",
   "execution_count": 47,
   "id": "8252b9fb",
   "metadata": {},
   "outputs": [
    {
     "name": "stdout",
     "output_type": "stream",
     "text": [
      "[[4 6 3]\n",
      " [5 1 6]\n",
      " [7 2 4]]\n",
      "[[20 30 15]\n",
      " [25  5 30]\n",
      " [35 10 20]]\n",
      "[[20 30 15]\n",
      " [26  6 31]\n",
      " [35 10 20]]\n",
      "[[10 30 15]\n",
      " [26  3 31]\n",
      " [35 10 10]]\n"
     ]
    }
   ],
   "source": [
    "import random\n",
    "a = np.random.randint(10, size=(3,3))\n",
    "print (a)\n",
    "\n",
    "\n",
    "a *= 5\n",
    "print (a)\n",
    "\n",
    "\n",
    "a[1,:] += 1\n",
    "print(a)    \n",
    "\n",
    "\n",
    "for i in range(len(a)):\n",
    "    #a[1,:] += 1\n",
    "    a[i,i] /= 2\n",
    "print (a)\n",
    "\n",
    "\n",
    "\n",
    "\n"
   ]
  },
  {
   "cell_type": "markdown",
   "id": "dadbaaae",
   "metadata": {},
   "source": [
    "- Используя модуль $\\texttt{random}$, создайте массив NumPy с 2 строками и 3 столбцами, в котором элементы являются случайными целыми числами больше 5 и меньше 13. Напишите код, который заменяет все четные элементы матрицы на 0. Распечатайте массив и проверьте результаты. Запустите код несколько раз, чтобы убедиться, что он работает для *разных* случайных массивов."
   ]
  },
  {
   "cell_type": "code",
   "execution_count": 74,
   "id": "ba29ea95",
   "metadata": {},
   "outputs": [
    {
     "name": "stdout",
     "output_type": "stream",
     "text": [
      "First array:\n",
      "[[5 8 9]\n",
      " [6 9 6]]\n",
      "Modified array:\n",
      "[[5 0 9]\n",
      " [0 9 0]]\n"
     ]
    }
   ],
   "source": [
    "import numpy as np\n",
    "\n",
    "a = np.random.randint(5, 13, size=(2, 3))\n",
    "print(\"First array:\")\n",
    "print(a)\n",
    "\n",
    "for index, number in np.ndenumerate(a):\n",
    "    if number % 2 == 0:  # Check if the element is even\n",
    "        a[index] = 0\n",
    "\n",
    "print(\"Modified array:\")\n",
    "print(a)\n",
    "\n",
    "\n"
   ]
  },
  {
   "cell_type": "markdown",
   "id": "0c2086ae",
   "metadata": {},
   "source": [
    "- Используйте matplotlib для построения кривой $y= 4+x-0,5x^2$, где $x$ лежит в интервале $[-1,5]$. Используйте $\\texttt{linspace}$ для создания массива координат точек на кривой. Кривая должна быть пунктирной и показана зеленым цветом."
   ]
  },
  {
   "cell_type": "code",
   "execution_count": 80,
   "id": "db08b0bb",
   "metadata": {},
   "outputs": [
    {
     "data": {
      "image/png": "[encoded data removed]",
      "text/plain": [
       "<Figure size 640x480 with 1 Axes>"
      ]
     },
     "metadata": {},
     "output_type": "display_data"
    }
   ],
   "source": [
    "import matplotlib.pyplot as plt\n",
    "x = np.linspace(-1, 5, 100)\n",
    "\n",
    "y = 4 + x - 0.5 * x ** 2\n",
    "plt.plot(x, y, linestyle = '--', color= 'green')\n",
    "plt.title (\"Curve\")\n",
    "plt.xlabel (\"X\")\n",
    "plt.ylabel (\"Y\")\n",
    "plt.show()\n",
    "\n",
    "\n",
    "\n",
    "\n"
   ]
  },
  {
   "cell_type": "markdown",
   "id": "1a644802",
   "metadata": {},
   "source": [
    "- Сколькими способами 23 ребенка могут сесть на 23 стула на уроке математики?"
   ]
  },
  {
   "cell_type": "markdown",
   "id": "3e7813fd",
   "metadata": {},
   "source": []
  },
  {
   "cell_type": "code",
   "execution_count": 88,
   "id": "a8d3667e",
   "metadata": {},
   "outputs": [
    {
     "name": "stdout",
     "output_type": "stream",
     "text": [
      "1\n",
      "25852016738884976640000\n"
     ]
    }
   ],
   "source": [
    "import math\n",
    "import sklearn\n",
    "import numpy as np\n",
    "\n",
    "a = math.comb(23,23)\n",
    "print (a)\n",
    "\n",
    "a1 = math.factorial (23)\n",
    "print (a1)\n",
    "\n"
   ]
  },
  {
   "cell_type": "markdown",
   "id": "5bed34f1",
   "metadata": {},
   "source": [
    "- Сколько различных способов есть у любых 2 из 5 учеников, чтобы сесть на 2 стула? То есть нужно посчитать количество рассадок для 2 учеников из 5 учеников чтобы сесть на 2 стула"
   ]
  },
  {
   "cell_type": "code",
   "execution_count": 91,
   "id": "6b3bb777",
   "metadata": {},
   "outputs": [
    {
     "name": "stdout",
     "output_type": "stream",
     "text": [
      "10\n"
     ]
    }
   ],
   "source": [
    "a = math.comb(5,2)\n",
    "print (a)\n"
   ]
  },
  {
   "cell_type": "markdown",
   "id": "0f2ac891",
   "metadata": {},
   "source": [
    "- У вас в классе учится 30 человек. Сколько разных футбольных команд можно сделать, где команда состоит из 7 человек (учитывайте что Галымбек, Алмас, Багдат и Багдат, Алмас, Галымбек это одна и та же команда, и мы должны учитывать только одну команду)"
   ]
  },
  {
   "cell_type": "code",
   "execution_count": 93,
   "id": "cce2f62e",
   "metadata": {},
   "outputs": [
    {
     "name": "stdout",
     "output_type": "stream",
     "text": [
      "10260432000\n"
     ]
    }
   ],
   "source": [
    "a = math.perm(30,7)\n",
    "print (a)\n",
    "\n"
   ]
  }
 ],
 "metadata": {
  "kernelspec": {
   "display_name": "Python 3",
   "language": "python",
   "name": "python3"
  },
  "language_info": {
   "codemirror_mode": {
    "name": "ipython",
    "version": 3
   },
   "file_extension": ".py",
   "mimetype": "text/x-python",
   "name": "python",
   "nbconvert_exporter": "python",
   "pygments_lexer": "ipython3",
   "version": "3.12.1"
  }
 },
 "nbformat": 4,
 "nbformat_minor": 5
}
