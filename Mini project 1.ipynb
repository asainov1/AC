{
 "cells": [
  {
   "cell_type": "markdown",
   "id": "74b5d472",
   "metadata": {},
   "source": [
    "# Мини проект 1"
   ]
  },
  {
   "cell_type": "markdown",
   "id": "cc4f6ca8",
   "metadata": {},
   "source": [
    "Вам дан файл users.txt. Вы должны сделать следующие действия:\n",
    "\n",
    "1) Прочитать этот файл построчно. Пожалуйста, используйте для этого try catch. Если файл не найден, напечатайте следующий текст: «the file that you would like to read is not found». Для любых других ошибок, пожалуйста, напечатайте следующее сообщение: \"some error occured\"\n",
    "     \n",
    "     \n",
    "2) Создайте класс Users со следующими атрибутами и функциями:\n",
    "\n",
    "     a) имя\n",
    "     \n",
    "     b) фамилия\n",
    "     \n",
    "     c) год рождения\n",
    "     \n",
    "     d) адрес электронной почты\n",
    "     \n",
    "     e) getAge(): возвращает возраст пользователя, принимая во внимание, что текущий год 2023\n",
    "     \n",
    "     \n",
    "3) преобразовать каждую строку файла в объект класса Users и сохранить их все в списке. Чтобы разделить слова, разделенные запятой, используйте функцию split(). Например, если: s = \"a,b,c\", тогда t = s.split(',') вернет ['a', 'b', 'c']. Таким образом разделите данные в каждой строке на отдельные части и присвойте эти значения атрибутам класса «Users».\n",
    "\n",
    "\n",
    "4) написать функцию filter(low, high, users), которая будет принимать параметры по умолчанию \"low\"=30, \"high\"=50 и простой параметр - список объектов класса Users. Функция должна пройтись по всем пользователям и проверить возраст с параметрами low и high. Мы должны вернуть только тех пользователей, чей возраст выше нижнего параметра low и ниже верхнего параметра high. Распечатайте их адрес электронной почты и возраст. Пожалуйста, разделите данные (адрес электронной почты и возраст) запятой. Затем вызовите эту функцию."
   ]
  },
  {
   "cell_type": "code",
   "execution_count": 14,
   "id": "062511b8",
   "metadata": {},
   "outputs": [],
   "source": [
    "import pandas as pd \n",
    "data = pd.read_csv ('users.txt')\n",
    "\n",
    "\n"
   ]
  },
  {
   "cell_type": "code",
   "execution_count": 15,
   "id": "22208bc4",
   "metadata": {},
   "outputs": [
    {
     "name": "stdout",
     "output_type": "stream",
     "text": [
      "1,Magzhan,Kairanbay,magzhan.kairanbay@gmail.com,1991\n",
      "2,John,See,john.see@gmail.com,1981\n",
      "3,Lim,Kim,lim.kim@gmail.com,1997\n",
      "4,Andrew,Ng,andrew.ng@gmail.com,1971\n",
      "5,Andrey,Karpathy,andrey.karpathy@gmail.com,1981\n",
      "6,Jackie,Chan,jeckie.chan@gmail.com,1951\n",
      "7,Clarence,Lim,clarence.lim@gmail.com,1985\n",
      "8,Ryan,Jack,ryan.jack@gmail.com,1994\n",
      "9,Jonattan,Clark,jonattan.clark@gmail.com,2000\n",
      "10,Chris,Brown,chris.brown@gmail.com,1989\n",
      "11,Justin,Bieber,justin.bieber@gmail.com,1992this is another datathis is another datathis is another datathis is another datathis is another datathis is another data\n"
     ]
    }
   ],
   "source": [
    "try:\n",
    "    with open('users.txt', 'r') as file:\n",
    "        for line in file:\n",
    "            print (line.strip())\n",
    "except FileNotFoundError:\n",
    "    print ('the file that you would like to read is not found')\n",
    "except:\n",
    "    print (\"some error occured\") "
   ]
  },
  {
   "cell_type": "code",
   "execution_count": null,
   "id": "dc3e08cc",
   "metadata": {},
   "outputs": [],
   "source": []
  },
  {
   "cell_type": "code",
   "execution_count": 16,
   "id": "4a968170",
   "metadata": {},
   "outputs": [
    {
     "name": "stdout",
     "output_type": "stream",
     "text": [
      "User age is:  24\n"
     ]
    }
   ],
   "source": [
    "class Users:\n",
    "    def __init__(self, name, surname, email, birth_year):\n",
    "        self.name = name\n",
    "        self.surname = surname\n",
    "        self.email = email\n",
    "        self.birth_year = int(birth_year)\n",
    "    def getAge (self):\n",
    "        current_year = 2023\n",
    "        age = current_year - self.birth_year\n",
    "        return age\n",
    "\n",
    "user1 = Users(\"Alikhan\", \"Sainov\",'alikhansainov@gmail.com', 1999)\n",
    "\n",
    "print (\"User age is: \", user1.getAge())\n",
    "        "
   ]
  },
  {
   "cell_type": "code",
   "execution_count": 20,
   "id": "e1647439",
   "metadata": {},
   "outputs": [
    {
     "name": "stdout",
     "output_type": "stream",
     "text": [
      "some error occured\n",
      "Magzhan Kairanbay magzhan.kairanbay@gmail.com 1991\n",
      "John See john.see@gmail.com 1981\n",
      "Lim Kim lim.kim@gmail.com 1997\n",
      "Andrew Ng andrew.ng@gmail.com 1971\n",
      "Andrey Karpathy andrey.karpathy@gmail.com 1981\n",
      "Jackie Chan jeckie.chan@gmail.com 1951\n",
      "Clarence Lim clarence.lim@gmail.com 1985\n",
      "Ryan Jack ryan.jack@gmail.com 1994\n",
      "Jonattan Clark jonattan.clark@gmail.com 2000\n",
      "Chris Brown chris.brown@gmail.com 1989\n"
     ]
    }
   ],
   "source": [
    "#3) преобразовать каждую строку файла в объект класса Users и сохранить их все в списке. Чтобы разделить слова, разделенные запятой, \n",
    "#используйте функцию split(). Например, если: s = \"a,b,c\", тогда t = s.split(',') вернет ['a', 'b', 'c']. Таким образом разделите данные\n",
    "#в каждой строке на отдельные части и присвойте эти значения атрибутам класса «Users».\n",
    "\n",
    "try:\n",
    "    fileName = \"users.txt\"\n",
    "    f = open(fileName)\n",
    "    myUsers = []\n",
    "    for x in f:\n",
    "   \n",
    "        tokens = x.strip().split(\",\")\n",
    "        user = Users(tokens[1],tokens[2],tokens[3],tokens[4])\n",
    "        myUsers.append(user)\n",
    "except FileNotFoundError:\n",
    "    print (\"the file that you would like to read is not found\")\n",
    "except:\n",
    "    print(\"some error occured\")\n",
    "\n",
    "for user in myUsers:\n",
    "    print (user.name,\n",
    "           user.surname,\n",
    "           user.email,\n",
    "           user.birth_year)"
   ]
  },
  {
   "cell_type": "code",
   "execution_count": 18,
   "id": "59289186",
   "metadata": {},
   "outputs": [],
   "source": [
    "#4) написать функцию filter(low, high, users), которая будет принимать параметры по умолчанию \"low\"=30, \"high\"=50 и простой параметр\n",
    "# - список объектов класса Users. Функция должна пройтись по всем пользователям и проверить возраст с параметрами low и high. Мы должны \n",
    "# вернуть только тех пользователей, чей возраст выше нижнего параметра low и ниже верхнего параметра high. Распечатайте их адрес\n",
    "# электронной почты и возраст. Пожалуйста, разделите данные (адрес электронной почты и возраст) запятой. Затем вызовите эту функцию."
   ]
  },
  {
   "cell_type": "code",
   "execution_count": 21,
   "id": "14301731",
   "metadata": {},
   "outputs": [
    {
     "name": "stdout",
     "output_type": "stream",
     "text": [
      "magzhan.kairanbay@gmail.com , 33\n",
      "john.see@gmail.com , 43\n",
      "andrey.karpathy@gmail.com , 43\n",
      "clarence.lim@gmail.com , 39\n",
      "chris.brown@gmail.com , 35\n"
     ]
    }
   ],
   "source": [
    "class Users:\n",
    "    def __init__(self, name, surname, email, birth_year):\n",
    "        self.name = name\n",
    "        self.surname = surname\n",
    "        self.email = email\n",
    "        self.birth_year = int(birth_year)\n",
    "\n",
    "\n",
    "def filter (low=30, high = 50, users = []):\n",
    "    filtered_users = []\n",
    " \n",
    "    for user in myUsers:\n",
    "        age = 2024 - user.birth_year\n",
    "        if low < age < high:\n",
    "\n",
    "            filtered_users.append(user)\n",
    "    return filtered_users\n",
    "\n",
    "filtered_users = filter(users = myUsers)\n",
    " \n",
    "for user in filtered_users:\n",
    "    age = 2024 - user.birth_year\n",
    "    print(user.email, \",\", age)\n"
   ]
  }
 ],
 "metadata": {
  "kernelspec": {
   "display_name": "Python 3",
   "language": "python",
   "name": "python3"
  },
  "language_info": {
   "codemirror_mode": {
    "name": "ipython",
    "version": 3
   },
   "file_extension": ".py",
   "mimetype": "text/x-python",
   "name": "python",
   "nbconvert_exporter": "python",
   "pygments_lexer": "ipython3",
   "version": "3.12.1"
  }
 },
 "nbformat": 4,
 "nbformat_minor": 5
}
