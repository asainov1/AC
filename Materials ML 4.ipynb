{
 "cells": [
  {
   "cell_type": "markdown",
   "id": "2f9f4997",
   "metadata": {},
   "source": [
    "1) number of rooms\n",
    "2) age of the apartment\n",
    "3) area: a) Bostandyq, b) Medeu, c) Auezov"
   ]
  },
  {
   "cell_type": "markdown",
   "id": "a7d88ac5",
   "metadata": {},
   "source": [
    "$x_{1}$ = number of rooms \\\n",
    "$x_{2}$ = age of the apartment \\\n",
    "$x_{3}$ = area"
   ]
  },
  {
   "cell_type": "markdown",
   "id": "c39f2711",
   "metadata": {},
   "source": [
    "if area == \"Bostandyq\": return [1, 0, 0] \\\n",
    "if area == \"Medeu\": return [0, 1, 0] \\\n",
    "if area == \"Auezov\": return [0, 0, 1]"
   ]
  },
  {
   "cell_type": "markdown",
   "id": "35f2d0d7",
   "metadata": {},
   "source": [
    "$x^{(1)}$ = [2, 1995, 1, 0, 0] \\\n",
    "$x^{(2)}$ = [3, 1991, 0, 1, 0] \\\n",
    "$x^{(3)}$ = [4, 2022, 0, 0, 1] "
   ]
  },
  {
   "cell_type": "code",
   "execution_count": 3,
   "id": "499c3f57",
   "metadata": {},
   "outputs": [],
   "source": [
    "import numpy as np\n",
    "\n",
    "x1 = np.array([2, 1995, 1, 0, 0])\n",
    "x2 = np.array([3, 1991, 0, 1, 0])\n",
    "x3 = np.array([4, 2022, 0, 0, 1])\n",
    "\n",
    "X = np.array([x1, x2, x3])\n",
    "y = np.array([100, 99, 150])"
   ]
  },
  {
   "cell_type": "code",
   "execution_count": 4,
   "id": "fc72fb8a",
   "metadata": {},
   "outputs": [
    {
     "name": "stdout",
     "output_type": "stream",
     "text": [
      "[[   2 1995    1    0    0]\n",
      " [   4 2022    0    0    1]]\n",
      "[[   3 1991    0    1    0]]\n",
      "[100 150]\n",
      "[99]\n"
     ]
    }
   ],
   "source": [
    "from sklearn.model_selection import train_test_split\n",
    "\n",
    "X_train, X_test, y_train, y_test = train_test_split(X, y, test_size=0.30)\n",
    "print(X_train)\n",
    "print(X_test)\n",
    "print(y_train)\n",
    "print(y_test)"
   ]
  },
  {
   "cell_type": "code",
   "execution_count": null,
   "id": "7b4261cd",
   "metadata": {},
   "outputs": [],
   "source": []
  }
 ],
 "metadata": {
  "kernelspec": {
   "display_name": "Python 3 (ipykernel)",
   "language": "python",
   "name": "python3"
  },
  "language_info": {
   "codemirror_mode": {
    "name": "ipython",
    "version": 3
   },
   "file_extension": ".py",
   "mimetype": "text/x-python",
   "name": "python",
   "nbconvert_exporter": "python",
   "pygments_lexer": "ipython3",
   "version": "3.11.0"
  }
 },
 "nbformat": 4,
 "nbformat_minor": 5
}
